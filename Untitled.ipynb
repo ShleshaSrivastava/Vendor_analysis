{
 "cells": [
  {
   "cell_type": "code",
   "execution_count": 17,
   "id": "335e2496-0be7-4525-b674-cdabeaa5b30c",
   "metadata": {},
   "outputs": [],
   "source": [
    "import pandas as pd\n",
    "import os\n",
    "from sqlalchemy import create_engine\n",
    "import logging\n",
    "import time\n",
    "\n",
    "# Define your log directory path\n",
    "log_dir = 'Vendor_analysis/logs'\n",
    "os.makedirs(log_dir, exist_ok=True)  # ✅ Ensure the folder exists\n",
    "\n",
    "# Set up logging\n",
    "logging.basicConfig(\n",
    "    filename=os.path.join(log_dir, \"ingestion.log\"),  # ✅ Full correct path\n",
    "    level=logging.DEBUG,\n",
    "    format=\"%(asctime)s - %(levelname)s - %(message)s\",\n",
    "    filemode=\"a\"\n",
    ")\n",
    "\n",
    "# Create SQLite engine\n",
    "engine = create_engine('sqlite:///inventory.db')\n",
    "\n",
    "def ingest_db(df, table_name, engine):\n",
    "    '''This function ingests the DataFrame into a database table'''\n",
    "    df.to_sql(table_name, con=engine, if_exists='replace', index=False)\n",
    "\n",
    "def load_raw_data():\n",
    "    '''This function loads CSVs into DataFrames and ingests them into the database'''\n",
    "    start = time.time()\n",
    "    logging.info(\"Starting ingestion process...\")\n",
    "\n",
    "    # Check if data directory exists\n",
    "    if not os.path.exists('data'):\n",
    "        logging.error(\"The 'data' directory does not exist.\")\n",
    "        return\n",
    "\n",
    "    files_found = False\n",
    "    for file in os.listdir('data'):\n",
    "        if file.endswith('.csv'):\n",
    "            files_found = True\n",
    "            try:\n",
    "                df = pd.read_csv(os.path.join('data', file))\n",
    "                logging.info(f'Ingesting {file} into database')\n",
    "                ingest_db(df, file[:-4], engine)\n",
    "                logging.info(f'Successfully ingested {file}')\n",
    "            except Exception as e:\n",
    "                logging.error(f'Error processing file {file}: {e}')\n",
    "\n",
    "    if not files_found:\n",
    "        logging.warning(\"No CSV files found in the 'data' directory.\")\n",
    "\n",
    "    end = time.time()\n",
    "    total_time = (end - start) / 60\n",
    "    logging.info('Ingestion Complete')\n",
    "    logging.info(f'Total time taken: {total_time:.2f} minutes')\n",
    "\n",
    "if __name__ == '__main__':\n",
    "    load_raw_data()\n",
    "\n"
   ]
  },
  {
   "cell_type": "code",
   "execution_count": 7,
   "id": "20c53727-2684-42c3-8fe4-3da8d6a9f640",
   "metadata": {},
   "outputs": [],
   "source": []
  },
  {
   "cell_type": "code",
   "execution_count": 12,
   "id": "65c95c2a-d0fe-4898-831b-6a86848300a2",
   "metadata": {},
   "outputs": [
    {
     "name": "stdout",
     "output_type": "stream",
     "text": [
      "(2372474, 16)\n",
      "(12261, 9)\n",
      "(5543, 10)\n",
      "(206529, 9)\n",
      "(224489, 9)\n",
      "(12825363, 14)\n"
     ]
    }
   ],
   "source": []
  },
  {
   "cell_type": "code",
   "execution_count": 10,
   "id": "8f35e6bb-78e1-469f-8912-5ff0f1adaa63",
   "metadata": {},
   "outputs": [],
   "source": []
  },
  {
   "cell_type": "code",
   "execution_count": null,
   "id": "75007af1-f367-4d34-9ac8-616c6bb92f9a",
   "metadata": {},
   "outputs": [],
   "source": []
  }
 ],
 "metadata": {
  "kernelspec": {
   "display_name": "Python 3 (ipykernel)",
   "language": "python",
   "name": "python3"
  },
  "language_info": {
   "codemirror_mode": {
    "name": "ipython",
    "version": 3
   },
   "file_extension": ".py",
   "mimetype": "text/x-python",
   "name": "python",
   "nbconvert_exporter": "python",
   "pygments_lexer": "ipython3",
   "version": "3.13.5"
  }
 },
 "nbformat": 4,
 "nbformat_minor": 5
}
